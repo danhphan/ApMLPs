{
 "cells": [
  {
   "cell_type": "code",
   "execution_count": 1,
   "metadata": {},
   "outputs": [],
   "source": [
    "import pandas as pd"
   ]
  },
  {
   "cell_type": "markdown",
   "metadata": {},
   "source": [
    "### Date time"
   ]
  },
  {
   "cell_type": "code",
   "execution_count": 2,
   "metadata": {},
   "outputs": [
    {
     "data": {
      "text/plain": [
       "2020-01-06 00:00:00   2020-01-06 00:00:00\n",
       "2020-01-06 10:00:00   2020-01-06 10:00:00\n",
       "2020-01-06 20:00:00   2020-01-06 20:00:00\n",
       "2020-01-07 06:00:00   2020-01-07 06:00:00\n",
       "2020-01-07 16:00:00   2020-01-07 16:00:00\n",
       "2020-01-08 02:00:00   2020-01-08 02:00:00\n",
       "2020-01-08 12:00:00   2020-01-08 12:00:00\n",
       "2020-01-08 22:00:00   2020-01-08 22:00:00\n",
       "2020-01-09 08:00:00   2020-01-09 08:00:00\n",
       "2020-01-09 18:00:00   2020-01-09 18:00:00\n",
       "Freq: 10H, dtype: datetime64[ns]"
      ]
     },
     "execution_count": 2,
     "metadata": {},
     "output_type": "execute_result"
    }
   ],
   "source": [
    "s = pd.date_range('2020-01-06', '2020-01-10', freq='10H').to_series()\n",
    "s"
   ]
  },
  {
   "cell_type": "code",
   "execution_count": 7,
   "metadata": {},
   "outputs": [
    {
     "data": {
      "text/plain": [
       "{'dayofweek': array([0, 0, 0, 1, 1, 2, 2, 2, 3, 3], dtype=int64),\n",
       " 'dayofyear': array([6, 6, 6, 7, 7, 8, 8, 8, 9, 9], dtype=int64),\n",
       " 'hour': array([ 0, 10, 20,  6, 16,  2, 12, 22,  8, 18], dtype=int64),\n",
       " 'is_leap_year': array([ True,  True,  True,  True,  True,  True,  True,  True,  True,\n",
       "         True]),\n",
       " 'quarter': array([1, 1, 1, 1, 1, 1, 1, 1, 1, 1], dtype=int64),\n",
       " 'weekofyear': <IntegerArray>\n",
       " [2, 2, 2, 2, 2, 2, 2, 2, 2, 2]\n",
       " Length: 10, dtype: UInt32}"
      ]
     },
     "execution_count": 7,
     "metadata": {},
     "output_type": "execute_result"
    }
   ],
   "source": [
    "features = {\n",
    "    \"dayofweek\": s.dt.dayofweek.values,\n",
    "    \"dayofyear\": s.dt.dayofyear.values,\n",
    "    \"hour\": s.dt.hour.values,\n",
    "    \"is_leap_year\": s.dt.is_leap_year.values,\n",
    "    \"quarter\": s.dt.quarter.values,\n",
    "    \"weekofyear\": s.dt.isocalendar().week.values\n",
    "}\n",
    "features"
   ]
  },
  {
   "cell_type": "markdown",
   "metadata": {},
   "source": [
    "### Polynomial features"
   ]
  },
  {
   "cell_type": "code",
   "execution_count": 14,
   "metadata": {},
   "outputs": [],
   "source": [
    "import numpy as np"
   ]
  },
  {
   "cell_type": "code",
   "execution_count": 15,
   "metadata": {},
   "outputs": [
    {
     "data": {
      "text/html": [
       "<div>\n",
       "<style scoped>\n",
       "    .dataframe tbody tr th:only-of-type {\n",
       "        vertical-align: middle;\n",
       "    }\n",
       "\n",
       "    .dataframe tbody tr th {\n",
       "        vertical-align: top;\n",
       "    }\n",
       "\n",
       "    .dataframe thead th {\n",
       "        text-align: right;\n",
       "    }\n",
       "</style>\n",
       "<table border=\"1\" class=\"dataframe\">\n",
       "  <thead>\n",
       "    <tr style=\"text-align: right;\">\n",
       "      <th></th>\n",
       "      <th>f_1</th>\n",
       "      <th>f_2</th>\n",
       "    </tr>\n",
       "  </thead>\n",
       "  <tbody>\n",
       "    <tr>\n",
       "      <th>0</th>\n",
       "      <td>0.701058</td>\n",
       "      <td>0.623867</td>\n",
       "    </tr>\n",
       "    <tr>\n",
       "      <th>1</th>\n",
       "      <td>0.821532</td>\n",
       "      <td>0.410557</td>\n",
       "    </tr>\n",
       "    <tr>\n",
       "      <th>2</th>\n",
       "      <td>0.696663</td>\n",
       "      <td>0.646644</td>\n",
       "    </tr>\n",
       "    <tr>\n",
       "      <th>3</th>\n",
       "      <td>0.074810</td>\n",
       "      <td>0.618307</td>\n",
       "    </tr>\n",
       "    <tr>\n",
       "      <th>4</th>\n",
       "      <td>0.661139</td>\n",
       "      <td>0.574790</td>\n",
       "    </tr>\n",
       "    <tr>\n",
       "      <th>...</th>\n",
       "      <td>...</td>\n",
       "      <td>...</td>\n",
       "    </tr>\n",
       "    <tr>\n",
       "      <th>95</th>\n",
       "      <td>0.538292</td>\n",
       "      <td>0.485830</td>\n",
       "    </tr>\n",
       "    <tr>\n",
       "      <th>96</th>\n",
       "      <td>0.531478</td>\n",
       "      <td>0.053523</td>\n",
       "    </tr>\n",
       "    <tr>\n",
       "      <th>97</th>\n",
       "      <td>0.433968</td>\n",
       "      <td>0.223512</td>\n",
       "    </tr>\n",
       "    <tr>\n",
       "      <th>98</th>\n",
       "      <td>0.726438</td>\n",
       "      <td>0.870565</td>\n",
       "    </tr>\n",
       "    <tr>\n",
       "      <th>99</th>\n",
       "      <td>0.101965</td>\n",
       "      <td>0.063226</td>\n",
       "    </tr>\n",
       "  </tbody>\n",
       "</table>\n",
       "<p>100 rows × 2 columns</p>\n",
       "</div>"
      ],
      "text/plain": [
       "         f_1       f_2\n",
       "0   0.701058  0.623867\n",
       "1   0.821532  0.410557\n",
       "2   0.696663  0.646644\n",
       "3   0.074810  0.618307\n",
       "4   0.661139  0.574790\n",
       "..       ...       ...\n",
       "95  0.538292  0.485830\n",
       "96  0.531478  0.053523\n",
       "97  0.433968  0.223512\n",
       "98  0.726438  0.870565\n",
       "99  0.101965  0.063226\n",
       "\n",
       "[100 rows x 2 columns]"
      ]
     },
     "execution_count": 15,
     "metadata": {},
     "output_type": "execute_result"
    }
   ],
   "source": [
    "df = pd.DataFrame(np.random.rand(100, 2), columns = [f\"f_{i}\" for i in range(1,3)])\n",
    "df.head()"
   ]
  },
  {
   "cell_type": "code",
   "execution_count": 16,
   "metadata": {},
   "outputs": [],
   "source": [
    "from sklearn import preprocessing"
   ]
  },
  {
   "cell_type": "code",
   "execution_count": 18,
   "metadata": {},
   "outputs": [
    {
     "data": {
      "text/plain": [
       "(100, 5)"
      ]
     },
     "execution_count": 18,
     "metadata": {},
     "output_type": "execute_result"
    }
   ],
   "source": [
    "# Initialize polynomial features: [f1,f2] => [f1, f2, f1^2, f2^2, f1*f2]\n",
    "pf = preprocessing.PolynomialFeatures(degree=2, interaction_only=False, include_bias=False)\n",
    "pf.fit(df)\n",
    "poly_feats = pf.transform(df)\n",
    "poly_feats.shape"
   ]
  },
  {
   "cell_type": "code",
   "execution_count": 19,
   "metadata": {},
   "outputs": [
    {
     "data": {
      "text/plain": [
       "(100, 5)"
      ]
     },
     "execution_count": 19,
     "metadata": {},
     "output_type": "execute_result"
    }
   ],
   "source": [
    "# Create a dataframe\n",
    "num_feats = poly_feats.shape[1]\n",
    "df_transformed =pd.DataFrame(poly_feats, columns=[f\"f_{i}\" for i in range(1, num_feats + 1)])\n",
    "df_transformed.shape"
   ]
  },
  {
   "cell_type": "code",
   "execution_count": 20,
   "metadata": {},
   "outputs": [
    {
     "data": {
      "text/html": [
       "<div>\n",
       "<style scoped>\n",
       "    .dataframe tbody tr th:only-of-type {\n",
       "        vertical-align: middle;\n",
       "    }\n",
       "\n",
       "    .dataframe tbody tr th {\n",
       "        vertical-align: top;\n",
       "    }\n",
       "\n",
       "    .dataframe thead th {\n",
       "        text-align: right;\n",
       "    }\n",
       "</style>\n",
       "<table border=\"1\" class=\"dataframe\">\n",
       "  <thead>\n",
       "    <tr style=\"text-align: right;\">\n",
       "      <th></th>\n",
       "      <th>f_1</th>\n",
       "      <th>f_2</th>\n",
       "      <th>f_3</th>\n",
       "      <th>f_4</th>\n",
       "      <th>f_5</th>\n",
       "    </tr>\n",
       "  </thead>\n",
       "  <tbody>\n",
       "    <tr>\n",
       "      <th>0</th>\n",
       "      <td>0.701058</td>\n",
       "      <td>0.623867</td>\n",
       "      <td>0.491483</td>\n",
       "      <td>0.437367</td>\n",
       "      <td>0.389210</td>\n",
       "    </tr>\n",
       "    <tr>\n",
       "      <th>1</th>\n",
       "      <td>0.821532</td>\n",
       "      <td>0.410557</td>\n",
       "      <td>0.674915</td>\n",
       "      <td>0.337285</td>\n",
       "      <td>0.168557</td>\n",
       "    </tr>\n",
       "    <tr>\n",
       "      <th>2</th>\n",
       "      <td>0.696663</td>\n",
       "      <td>0.646644</td>\n",
       "      <td>0.485339</td>\n",
       "      <td>0.450492</td>\n",
       "      <td>0.418148</td>\n",
       "    </tr>\n",
       "    <tr>\n",
       "      <th>3</th>\n",
       "      <td>0.074810</td>\n",
       "      <td>0.618307</td>\n",
       "      <td>0.005597</td>\n",
       "      <td>0.046256</td>\n",
       "      <td>0.382304</td>\n",
       "    </tr>\n",
       "    <tr>\n",
       "      <th>4</th>\n",
       "      <td>0.661139</td>\n",
       "      <td>0.574790</td>\n",
       "      <td>0.437104</td>\n",
       "      <td>0.380016</td>\n",
       "      <td>0.330383</td>\n",
       "    </tr>\n",
       "  </tbody>\n",
       "</table>\n",
       "</div>"
      ],
      "text/plain": [
       "        f_1       f_2       f_3       f_4       f_5\n",
       "0  0.701058  0.623867  0.491483  0.437367  0.389210\n",
       "1  0.821532  0.410557  0.674915  0.337285  0.168557\n",
       "2  0.696663  0.646644  0.485339  0.450492  0.418148\n",
       "3  0.074810  0.618307  0.005597  0.046256  0.382304\n",
       "4  0.661139  0.574790  0.437104  0.380016  0.330383"
      ]
     },
     "execution_count": 20,
     "metadata": {},
     "output_type": "execute_result"
    }
   ],
   "source": [
    "df_transformed.head()"
   ]
  },
  {
   "cell_type": "markdown",
   "metadata": {},
   "source": [
    "### Binning"
   ]
  },
  {
   "cell_type": "code",
   "execution_count": 21,
   "metadata": {},
   "outputs": [
    {
     "data": {
      "text/html": [
       "<div>\n",
       "<style scoped>\n",
       "    .dataframe tbody tr th:only-of-type {\n",
       "        vertical-align: middle;\n",
       "    }\n",
       "\n",
       "    .dataframe tbody tr th {\n",
       "        vertical-align: top;\n",
       "    }\n",
       "\n",
       "    .dataframe thead th {\n",
       "        text-align: right;\n",
       "    }\n",
       "</style>\n",
       "<table border=\"1\" class=\"dataframe\">\n",
       "  <thead>\n",
       "    <tr style=\"text-align: right;\">\n",
       "      <th></th>\n",
       "      <th>f_1</th>\n",
       "      <th>f_2</th>\n",
       "      <th>f_bin_10</th>\n",
       "      <th>f_bin_100</th>\n",
       "    </tr>\n",
       "  </thead>\n",
       "  <tbody>\n",
       "    <tr>\n",
       "      <th>0</th>\n",
       "      <td>0.701058</td>\n",
       "      <td>0.623867</td>\n",
       "      <td>7</td>\n",
       "      <td>70</td>\n",
       "    </tr>\n",
       "    <tr>\n",
       "      <th>1</th>\n",
       "      <td>0.821532</td>\n",
       "      <td>0.410557</td>\n",
       "      <td>8</td>\n",
       "      <td>82</td>\n",
       "    </tr>\n",
       "    <tr>\n",
       "      <th>2</th>\n",
       "      <td>0.696663</td>\n",
       "      <td>0.646644</td>\n",
       "      <td>6</td>\n",
       "      <td>69</td>\n",
       "    </tr>\n",
       "    <tr>\n",
       "      <th>3</th>\n",
       "      <td>0.074810</td>\n",
       "      <td>0.618307</td>\n",
       "      <td>0</td>\n",
       "      <td>7</td>\n",
       "    </tr>\n",
       "    <tr>\n",
       "      <th>4</th>\n",
       "      <td>0.661139</td>\n",
       "      <td>0.574790</td>\n",
       "      <td>6</td>\n",
       "      <td>66</td>\n",
       "    </tr>\n",
       "  </tbody>\n",
       "</table>\n",
       "</div>"
      ],
      "text/plain": [
       "        f_1       f_2  f_bin_10  f_bin_100\n",
       "0  0.701058  0.623867         7         70\n",
       "1  0.821532  0.410557         8         82\n",
       "2  0.696663  0.646644         6         69\n",
       "3  0.074810  0.618307         0          7\n",
       "4  0.661139  0.574790         6         66"
      ]
     },
     "execution_count": 21,
     "metadata": {},
     "output_type": "execute_result"
    }
   ],
   "source": [
    "# Create bins of the numberical columns\n",
    "df[\"f_bin_10\"] = pd.cut(df[\"f_1\"], bins=10, labels=False)\n",
    "df[\"f_bin_100\"] = pd.cut(df[\"f_1\"], bins=100, labels=False)\n",
    "df.head()"
   ]
  },
  {
   "cell_type": "code",
   "execution_count": 22,
   "metadata": {},
   "outputs": [
    {
     "data": {
      "text/plain": [
       "9    18\n",
       "7    14\n",
       "5    14\n",
       "0    10\n",
       "6     9\n",
       "4     9\n",
       "1     8\n",
       "8     7\n",
       "3     7\n",
       "2     4\n",
       "Name: f_bin_10, dtype: int64"
      ]
     },
     "execution_count": 22,
     "metadata": {},
     "output_type": "execute_result"
    }
   ],
   "source": [
    "df.f_bin_10.value_counts()"
   ]
  },
  {
   "cell_type": "markdown",
   "metadata": {},
   "source": [
    "### Imputation with KNN"
   ]
  },
  {
   "cell_type": "code",
   "execution_count": 64,
   "metadata": {},
   "outputs": [],
   "source": [
    "import numpy as np\n",
    "from sklearn import impute"
   ]
  },
  {
   "cell_type": "code",
   "execution_count": 65,
   "metadata": {},
   "outputs": [
    {
     "data": {
      "text/plain": [
       "(10, 6)"
      ]
     },
     "execution_count": 65,
     "metadata": {},
     "output_type": "execute_result"
    }
   ],
   "source": [
    "# Create a random np array with 10 samples\n",
    "X = np.random.randint(1, 15, (10,6))\n",
    "X = X.astype(float)\n",
    "X.shape"
   ]
  },
  {
   "cell_type": "code",
   "execution_count": 66,
   "metadata": {},
   "outputs": [
    {
     "data": {
      "text/plain": [
       "array([[ 7.,  1., 14., 14.,  3.,  8.],\n",
       "       [ 8.,  3.,  9.,  9.,  2., 12.],\n",
       "       [ 6., 13.,  4.,  8., 12.,  9.],\n",
       "       [11.,  4.,  5.,  3.,  7., 14.],\n",
       "       [11., 10., 13.,  5.,  4.,  2.],\n",
       "       [ 8., 11., 12.,  5.,  2., 14.],\n",
       "       [ 3.,  1.,  7.,  9.,  9.,  7.],\n",
       "       [ 1.,  9., 14., 14.,  3.,  2.],\n",
       "       [ 9.,  9.,  5.,  7.,  2.,  1.],\n",
       "       [ 1., 14.,  4.,  6.,  9.,  2.]])"
      ]
     },
     "execution_count": 66,
     "metadata": {},
     "output_type": "execute_result"
    }
   ],
   "source": [
    "X"
   ]
  },
  {
   "cell_type": "code",
   "execution_count": 67,
   "metadata": {},
   "outputs": [
    {
     "data": {
      "text/plain": [
       "array([ 6., 11.,  6.,  8.,  7.,  3.,  2.,  9., 11.,  9.])"
      ]
     },
     "execution_count": 67,
     "metadata": {},
     "output_type": "execute_result"
    }
   ],
   "source": [
    "# Randomly assign 10 elements to NaN\n",
    "e_rand = np.random.choice(X.size, 10, replace=False)\n",
    "X.ravel()[e_rand]"
   ]
  },
  {
   "cell_type": "code",
   "execution_count": 68,
   "metadata": {},
   "outputs": [
    {
     "data": {
      "text/plain": [
       "array([[nan,  1., 14., 14.,  3.,  8.],\n",
       "       [nan,  3.,  9., nan, nan, 12.],\n",
       "       [nan, 13.,  4.,  8., 12.,  9.],\n",
       "       [nan,  4.,  5., nan,  7., 14.],\n",
       "       [nan, 10., 13.,  5.,  4.,  2.],\n",
       "       [ 8., 11., 12.,  5.,  2., 14.],\n",
       "       [ 3.,  1.,  7.,  9.,  9.,  7.],\n",
       "       [ 1.,  9., 14., 14.,  3.,  2.],\n",
       "       [ 9., nan,  5.,  7.,  2.,  1.],\n",
       "       [ 1., 14.,  4., nan,  9.,  2.]])"
      ]
     },
     "execution_count": 68,
     "metadata": {},
     "output_type": "execute_result"
    }
   ],
   "source": [
    "X.ravel()[e_rand] = np.nan\n",
    "X"
   ]
  },
  {
   "cell_type": "code",
   "execution_count": 69,
   "metadata": {},
   "outputs": [],
   "source": [
    "knn_imputer = impute.KNNImputer(n_neighbors=2)\n",
    "Y = knn_imputer.fit_transform(X)"
   ]
  },
  {
   "cell_type": "code",
   "execution_count": 70,
   "metadata": {},
   "outputs": [
    {
     "data": {
      "text/plain": [
       "array([ 2. ,  5.5,  7.5,  5.5,  2. ,  7. ,  8. ,  5.5,  5. , 11.5])"
      ]
     },
     "execution_count": 70,
     "metadata": {},
     "output_type": "execute_result"
    }
   ],
   "source": [
    "Y.ravel()[e_rand]"
   ]
  },
  {
   "cell_type": "code",
   "execution_count": null,
   "metadata": {},
   "outputs": [],
   "source": []
  }
 ],
 "metadata": {
  "kernelspec": {
   "display_name": "Python 3",
   "language": "python",
   "name": "python3"
  },
  "language_info": {
   "codemirror_mode": {
    "name": "ipython",
    "version": 3
   },
   "file_extension": ".py",
   "mimetype": "text/x-python",
   "name": "python",
   "nbconvert_exporter": "python",
   "pygments_lexer": "ipython3",
   "version": "3.8.5"
  }
 },
 "nbformat": 4,
 "nbformat_minor": 4
}
