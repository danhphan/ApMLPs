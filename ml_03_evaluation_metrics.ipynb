{
 "cells": [
  {
   "cell_type": "code",
   "execution_count": 1,
   "metadata": {},
   "outputs": [],
   "source": [
    "def accuracy(ys, y_preds):\n",
    "    correct_counter = 0\n",
    "    for y, y_pred in zip(ys, y_preds):\n",
    "        if y == y_pred:\n",
    "            correct_counter += 1\n",
    "    return correct_counter/len(ys)\n"
   ]
  },
  {
   "cell_type": "code",
   "execution_count": 3,
   "metadata": {},
   "outputs": [
    {
     "data": {
      "text/plain": [
       "(0.625, 0.625)"
      ]
     },
     "execution_count": 3,
     "metadata": {},
     "output_type": "execute_result"
    }
   ],
   "source": [
    "# Test\n",
    "from sklearn import  metrics\n",
    "l1 = [0,1,1,1,0,0,0,1]\n",
    "l2 = [0,1,0,1,0,1,0,0]\n",
    "metrics.accuracy_score(l1,l2), accuracy(l1,l2)"
   ]
  },
  {
   "cell_type": "code",
   "execution_count": 9,
   "metadata": {},
   "outputs": [],
   "source": [
    "def true_positive(ys, y_preds):\n",
    "    tp = 0\n",
    "    for y, y_pred in zip(ys, y_preds):\n",
    "        if y == 1 and y_pred == 1:\n",
    "            tp += 1\n",
    "    return tp\n",
    "\n",
    "def true_negative(ys, y_preds):\n",
    "    tn = 0\n",
    "    for y, y_pred in zip(ys, y_preds):\n",
    "        if y == 0 and y_pred == 0:\n",
    "            tn += 1\n",
    "    return tn\n",
    "\n",
    "def false_positive(ys, y_preds):\n",
    "    fp = 0\n",
    "    for y, y_pred in zip(ys, y_preds):\n",
    "        if y == 0 and y_pred == 1:\n",
    "            fp += 1\n",
    "    return fp\n",
    "\n",
    "def false_negative(ys, y_preds):\n",
    "    fn = 0\n",
    "    for y, y_pred in zip(ys, y_preds):\n",
    "        if y == 1 and y_pred == 0:\n",
    "            fn += 1\n",
    "    return fn"
   ]
  },
  {
   "cell_type": "code",
   "execution_count": 10,
   "metadata": {},
   "outputs": [
    {
     "data": {
      "text/plain": [
       "(0.625, 2, 3, 1, 2)"
      ]
     },
     "execution_count": 10,
     "metadata": {},
     "output_type": "execute_result"
    }
   ],
   "source": [
    "l1 = [0,1,1,1,0,0,0,1]\n",
    "l2 = [0,1,0,1,0,1,0,0]\n",
    "accuracy(l1,l2), true_positive(l1,l2), true_negative(l1,l2), false_positive(l1,l2), false_negative(l1,l2)"
   ]
  },
  {
   "cell_type": "code",
   "execution_count": 12,
   "metadata": {},
   "outputs": [],
   "source": [
    "assert accuracy(l1,l2) == (true_positive(l1,l2) + true_negative(l1,l2)) / len(l1)"
   ]
  },
  {
   "cell_type": "code",
   "execution_count": 13,
   "metadata": {},
   "outputs": [],
   "source": [
    "def accuracy_v2(ys, y_preds):\n",
    "    tp = true_positive(ys,y_preds)\n",
    "    tn = true_negative(ys,y_preds)\n",
    "    fp = false_positive(ys,y_preds)\n",
    "    fn = false_negative(ys,y_preds)\n",
    "    accuracy_score = (tp + tn)/ (tp + tn + fp + fn)\n",
    "    return accuracy_score"
   ]
  },
  {
   "cell_type": "code",
   "execution_count": 14,
   "metadata": {},
   "outputs": [],
   "source": [
    "assert accuracy(l1,l2) == accuracy_v2(l1,l2)"
   ]
  },
  {
   "cell_type": "code",
   "execution_count": 15,
   "metadata": {},
   "outputs": [
    {
     "data": {
      "text/plain": [
       "0.6666666666666666"
      ]
     },
     "execution_count": 15,
     "metadata": {},
     "output_type": "execute_result"
    }
   ],
   "source": [
    "def precision(ys, y_preds):\n",
    "    \"\"\"Precision = TP / (TP + FP)\"\"\"\n",
    "    tp = true_positive(ys, y_preds)\n",
    "    fp = false_positive(ys, y_preds)\n",
    "    precision = tp / (tp + fp)\n",
    "    return precision\n",
    "\n",
    "precision(l1,l2)"
   ]
  },
  {
   "cell_type": "code",
   "execution_count": 16,
   "metadata": {},
   "outputs": [
    {
     "data": {
      "text/plain": [
       "0.5"
      ]
     },
     "execution_count": 16,
     "metadata": {},
     "output_type": "execute_result"
    }
   ],
   "source": [
    "def recall(ys, y_preds):\n",
    "    \"\"\"Recall = TP / (TP + FN)\"\"\"\n",
    "    tp = true_positive(ys, y_preds)\n",
    "    fn = false_negative(ys, y_preds)\n",
    "    recall = tp / (tp + fn)\n",
    "    return recall\n",
    "\n",
    "recall(l1,l2)"
   ]
  },
  {
   "cell_type": "code",
   "execution_count": null,
   "metadata": {},
   "outputs": [],
   "source": []
  }
 ],
 "metadata": {
  "kernelspec": {
   "display_name": "Python 3",
   "language": "python",
   "name": "python3"
  },
  "language_info": {
   "codemirror_mode": {
    "name": "ipython",
    "version": 3
   },
   "file_extension": ".py",
   "mimetype": "text/x-python",
   "name": "python",
   "nbconvert_exporter": "python",
   "pygments_lexer": "ipython3",
   "version": "3.8.5"
  }
 },
 "nbformat": 4,
 "nbformat_minor": 5
}
