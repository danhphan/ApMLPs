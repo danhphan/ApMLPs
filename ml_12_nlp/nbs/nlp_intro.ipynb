{
 "metadata": {
  "language_info": {
   "codemirror_mode": {
    "name": "ipython",
    "version": 3
   },
   "file_extension": ".py",
   "mimetype": "text/x-python",
   "name": "python",
   "nbconvert_exporter": "python",
   "pygments_lexer": "ipython3",
   "version": "3.7.4-final"
  },
  "orig_nbformat": 2,
  "kernelspec": {
   "name": "python3",
   "display_name": "Python 3.7.4 64-bit ('base': conda)",
   "metadata": {
    "interpreter": {
     "hash": "6bf55de2ea45bd44381eaca85792901b9f11f6e21131226e4da7c83d72a25827"
    }
   }
  }
 },
 "nbformat": 4,
 "nbformat_minor": 2,
 "cells": [
  {
   "cell_type": "code",
   "execution_count": 2,
   "metadata": {},
   "outputs": [],
   "source": [
    "def find_sentiment(sentence, pos, neg):\n",
    "    # split sentence by a space\n",
    "    sentence = sentence.split()\n",
    "    sentence = set(sentence)\n",
    "    num_pos = len(sentence.intersection(pos))\n",
    "    num_neg = len(sentence.intersection(neg))\n",
    "    if num_pos > num_neg:\n",
    "        return \"positive\"\n",
    "    if num_pos < num_neg:\n",
    "        return \"negative\"\n",
    "    return \"neutral\"\n",
    "\n",
    "\n"
   ]
  },
  {
   "source": [
    "### Work tokenize"
   ],
   "cell_type": "markdown",
   "metadata": {}
  },
  {
   "cell_type": "code",
   "execution_count": 5,
   "metadata": {},
   "outputs": [
    {
     "output_type": "stream",
     "name": "stderr",
     "text": [
      "[nltk_data] Downloading package punkt to /home/danph/nltk_data...\n",
      "[nltk_data]   Unzipping tokenizers/punkt.zip.\n"
     ]
    }
   ],
   "source": [
    "# NLTK\n",
    "import nltk\n",
    "nltk.download('punkt')\n",
    "from nltk.tokenize import word_tokenize"
   ]
  },
  {
   "cell_type": "code",
   "execution_count": null,
   "metadata": {},
   "outputs": [],
   "source": [
    "sentence = \"hi, how are you?\"\n",
    "sentence.split()"
   ]
  },
  {
   "cell_type": "code",
   "execution_count": 6,
   "metadata": {},
   "outputs": [
    {
     "output_type": "execute_result",
     "data": {
      "text/plain": [
       "['hi', ',', 'how', 'are', 'you', '?']"
      ]
     },
     "metadata": {},
     "execution_count": 6
    }
   ],
   "source": [
    "word_tokenize(sentence)"
   ]
  },
  {
   "source": [
    "### Bag of words"
   ],
   "cell_type": "markdown",
   "metadata": {}
  },
  {
   "cell_type": "code",
   "execution_count": 8,
   "metadata": {},
   "outputs": [
    {
     "output_type": "stream",
     "name": "stdout",
     "text": [
      "  (0, 2)\t1\n  (0, 9)\t1\n  (0, 11)\t1\n  (0, 22)\t1\n  (1, 1)\t1\n  (1, 3)\t1\n  (1, 4)\t1\n  (1, 7)\t1\n  (1, 8)\t1\n  (1, 10)\t1\n  (1, 13)\t1\n  (1, 17)\t1\n  (1, 19)\t1\n  (1, 22)\t2\n  (2, 0)\t1\n  (2, 5)\t1\n  (2, 6)\t1\n  (2, 14)\t1\n  (2, 22)\t1\n  (3, 12)\t1\n  (3, 15)\t1\n  (3, 16)\t1\n  (3, 18)\t1\n  (3, 20)\t1\n  (4, 21)\t1\n"
     ]
    }
   ],
   "source": [
    "from sklearn.feature_extraction.text import CountVectorizer\n",
    "\n",
    "# Create a corpus of sentences\n",
    "corpus = [\n",
    "    \"hello, how are you?\",\n",
    "    \"im getting bored at home. And you? What do you think?\",\n",
    "    \"did you know about counts\",\n",
    "    \"let's see if this works!\",\n",
    "    \"YES!!!!!\"\n",
    "]\n",
    "\n",
    "# Create CountVectorizer and fit the corpus\n",
    "ctv = CountVectorizer()\n",
    "ctv.fit(corpus)\n",
    "corpus_tfm = ctv.transform(corpus)\n",
    "print(corpus_tfm)\n"
   ]
  },
  {
   "cell_type": "code",
   "execution_count": 10,
   "metadata": {},
   "outputs": [
    {
     "output_type": "stream",
     "name": "stdout",
     "text": [
      "{'hello': 9, 'how': 11, 'are': 2, 'you': 22, 'im': 13, 'getting': 8, 'bored': 4, 'at': 3, 'home': 10, 'and': 1, 'what': 19, 'do': 7, 'think': 17, 'did': 6, 'know': 14, 'about': 0, 'counts': 5, 'let': 15, 'see': 16, 'if': 12, 'this': 18, 'works': 20, 'yes': 21}\n"
     ]
    }
   ],
   "source": [
    "print(ctv.vocabulary_)"
   ]
  },
  {
   "source": [
    "### Bags of words with word tokenize"
   ],
   "cell_type": "markdown",
   "metadata": {}
  },
  {
   "cell_type": "code",
   "execution_count": 5,
   "metadata": {},
   "outputs": [
    {
     "output_type": "stream",
     "name": "stdout",
     "text": [
      "{'hello': 14, ',': 2, 'how': 16, 'are': 7, 'you': 27, '?': 4, 'im': 18, 'getting': 13, 'bored': 9, 'at': 8, 'home': 15, '.': 3, 'and': 6, 'what': 24, 'do': 12, 'think': 22, 'did': 11, 'know': 19, 'about': 5, 'counts': 10, 'let': 20, \"'s\": 1, 'see': 21, 'if': 17, 'this': 23, 'works': 25, '!': 0, 'yes': 26}\n"
     ]
    }
   ],
   "source": [
    "from sklearn.feature_extraction.text import CountVectorizer\n",
    "from nltk.tokenize import word_tokenize\n",
    "\n",
    "# Create a corpus of sentences\n",
    "corpus = [\n",
    "    \"hello, how are you?\",\n",
    "    \"im getting bored at home. And you? What do you think?\",\n",
    "    \"did you know about counts\",\n",
    "    \"let's see if this works!\",\n",
    "    \"YES!!!!!\"\n",
    "]\n",
    "\n",
    "# Create CountVectorizer and fit the corpus\n",
    "ctv = CountVectorizer(tokenizer=word_tokenize, token_pattern=None)\n",
    "ctv.fit(corpus)\n",
    "corpus_tfm = ctv.transform(corpus)\n",
    "print(ctv.vocabulary_)"
   ]
  },
  {
   "source": [
    "### TF-IDF vectorize"
   ],
   "cell_type": "markdown",
   "metadata": {}
  },
  {
   "cell_type": "code",
   "execution_count": 2,
   "metadata": {},
   "outputs": [
    {
     "output_type": "stream",
     "name": "stdout",
     "text": [
      "  (0, 27)\t0.2965698850220162\n  (0, 16)\t0.4428321995085722\n  (0, 14)\t0.4428321995085722\n  (0, 7)\t0.4428321995085722\n  (0, 4)\t0.35727423026525224\n  (0, 2)\t0.4428321995085722\n  (1, 27)\t0.35299699146792735\n  (1, 24)\t0.2635440111190765\n  (1, 22)\t0.2635440111190765\n  (1, 18)\t0.2635440111190765\n  (1, 15)\t0.2635440111190765\n  (1, 13)\t0.2635440111190765\n  (1, 12)\t0.2635440111190765\n  (1, 9)\t0.2635440111190765\n  (1, 8)\t0.2635440111190765\n  (1, 6)\t0.2635440111190765\n  (1, 4)\t0.42525129752567803\n  (1, 3)\t0.2635440111190765\n  (2, 27)\t0.31752680284846835\n  (2, 19)\t0.4741246485558491\n  (2, 11)\t0.4741246485558491\n  (2, 10)\t0.4741246485558491\n  (2, 5)\t0.4741246485558491\n  (3, 25)\t0.38775666010579296\n  (3, 23)\t0.38775666010579296\n  (3, 21)\t0.38775666010579296\n  (3, 20)\t0.38775666010579296\n  (3, 17)\t0.38775666010579296\n  (3, 1)\t0.38775666010579296\n  (3, 0)\t0.3128396318588854\n  (4, 26)\t0.2406120346077416\n  (4, 0)\t0.9706213725247981\n"
     ]
    }
   ],
   "source": [
    "from sklearn.feature_extraction.text import TfidfVectorizer\n",
    "from nltk.tokenize import word_tokenize\n",
    "\n",
    "# Create a corpus of sentences\n",
    "corpus = [\n",
    "    \"hello, how are you?\",\n",
    "    \"im getting bored at home. And you? What do you think?\",\n",
    "    \"did you know about counts\",\n",
    "    \"let's see if this works!\",\n",
    "    \"YES!!!!!\"\n",
    "]\n",
    "\n",
    "tfv = TfidfVectorizer(tokenizer=word_tokenize, token_pattern=None)\n",
    "tfv.fit(corpus)\n",
    "\n",
    "corpus_tfm = tfv.transform(corpus)\n",
    "print(corpus_tfm)"
   ]
  },
  {
   "cell_type": "code",
   "execution_count": 3,
   "metadata": {},
   "outputs": [
    {
     "output_type": "execute_result",
     "data": {
      "text/plain": [
       "{'hello': 14,\n",
       " ',': 2,\n",
       " 'how': 16,\n",
       " 'are': 7,\n",
       " 'you': 27,\n",
       " '?': 4,\n",
       " 'im': 18,\n",
       " 'getting': 13,\n",
       " 'bored': 9,\n",
       " 'at': 8,\n",
       " 'home': 15,\n",
       " '.': 3,\n",
       " 'and': 6,\n",
       " 'what': 24,\n",
       " 'do': 12,\n",
       " 'think': 22,\n",
       " 'did': 11,\n",
       " 'know': 19,\n",
       " 'about': 5,\n",
       " 'counts': 10,\n",
       " 'let': 20,\n",
       " \"'s\": 1,\n",
       " 'see': 21,\n",
       " 'if': 17,\n",
       " 'this': 23,\n",
       " 'works': 25,\n",
       " '!': 0,\n",
       " 'yes': 26}"
      ]
     },
     "metadata": {},
     "execution_count": 3
    }
   ],
   "source": [
    "tfv.vocabulary_"
   ]
  },
  {
   "cell_type": "code",
   "execution_count": 7,
   "metadata": {},
   "outputs": [
    {
     "output_type": "execute_result",
     "data": {
      "text/plain": [
       "True"
      ]
     },
     "metadata": {},
     "execution_count": 7
    }
   ],
   "source": [
    "# Check if they use the same list of vocabularies\n",
    "ctv.vocabulary_ == tfv.vocabulary_"
   ]
  },
  {
   "source": [
    "### N-grams: words in order"
   ],
   "cell_type": "markdown",
   "metadata": {}
  },
  {
   "cell_type": "code",
   "execution_count": 11,
   "metadata": {},
   "outputs": [
    {
     "output_type": "stream",
     "name": "stdout",
     "text": [
      "[('hi', ','), (',', 'how'), ('how', 'are'), ('are', 'you'), ('you', '?')]\n"
     ]
    }
   ],
   "source": [
    "from nltk import ngrams\n",
    "from nltk.tokenize import word_tokenize\n",
    "\n",
    "# Set n-grams\n",
    "N = 2\n",
    "sentence = \"hi, how are you?\"\n",
    "sentence_tkn = word_tokenize(sentence)\n",
    "# Generate n-grams\n",
    "n_grams = list(ngrams(sentence_tkn, N))\n",
    "print(n_grams)"
   ]
  },
  {
   "source": [
    "### Stemming and lemmatiztion"
   ],
   "cell_type": "markdown",
   "metadata": {}
  },
  {
   "cell_type": "code",
   "execution_count": 16,
   "metadata": {},
   "outputs": [
    {
     "output_type": "stream",
     "name": "stdout",
     "text": [
      "Word=fishing\n",
      "Stem=fish\n",
      "Lemm=fishing\n",
      "\n",
      "Word=fishes\n",
      "Stem=fish\n",
      "Lemm=fish\n",
      "\n",
      "Word=fished\n",
      "Stem=fish\n",
      "Lemm=fished\n",
      "\n",
      "[nltk_data] Downloading package wordnet to /home/danph/nltk_data...\n",
      "[nltk_data]   Package wordnet is already up-to-date!\n"
     ]
    }
   ],
   "source": [
    "import nltk\n",
    "nltk.download('wordnet')\n",
    "from nltk.stem import WordNetLemmatizer\n",
    "from nltk.stem.snowball import SnowballStemmer\n",
    "\n",
    "lemzer = WordNetLemmatizer()\n",
    "stemmer = SnowballStemmer(\"english\")\n",
    "\n",
    "words = [\"fishing\", \"fishes\", \"fished\"]\n",
    "\n",
    "for word in words:\n",
    "    print(f\"Word={word}\")\n",
    "    print(f\"Stem={stemmer.stem(word)}\")\n",
    "    print(f\"Lemm={lemzer.lemmatize(word)}\")\n",
    "    print(\"\")"
   ]
  },
  {
   "source": [
    "### Topic extraction"
   ],
   "cell_type": "markdown",
   "metadata": {}
  },
  {
   "cell_type": "code",
   "execution_count": 25,
   "metadata": {},
   "outputs": [],
   "source": [
    "import pandas as pd\n",
    "from nltk.tokenize import word_tokenize\n",
    "from sklearn import decomposition\n",
    "from sklearn.feature_extraction.text import TfidfVectorizer\n",
    "\n",
    "# Create a corpus of sentences\n",
    "corpus = pd.read_csv(\"../data/imdb.csv\", nrows=10000)\n",
    "corpus.loc[:, 'review'] = corpus.review.apply(clean_text)\n",
    "corpus = corpus.review.values"
   ]
  },
  {
   "cell_type": "code",
   "execution_count": 26,
   "metadata": {},
   "outputs": [],
   "source": [
    "# Tfidf vectorize with work_tokenize\n",
    "tfv = TfidfVectorizer(tokenizer=word_tokenize, token_pattern=None)\n",
    "tfv.fit(corpus)\n",
    "corpus_tfm = tfv.transform(corpus)\n",
    "# Generate SVD with 10 components\n",
    "svd = decomposition.TruncatedSVD(n_components=10)\n",
    "corpus_svd = svd.fit(corpus_tfm)"
   ]
  },
  {
   "cell_type": "code",
   "execution_count": 27,
   "metadata": {},
   "outputs": [
    {
     "output_type": "stream",
     "name": "stdout",
     "text": [
      "['the', 'a', 'and', 'of', 'to', 'is', 'i', 'in', 'it', 'this']\n"
     ]
    }
   ],
   "source": [
    "# Create a dictionary of feature names and scores from svd\n",
    "sample_index = 0\n",
    "feature_scores = dict(zip(tfv.get_feature_names(), corpus_svd.components_[sample_index]))\n",
    "# Sort to get top N topics\n",
    "N = 10\n",
    "print(sorted(feature_scores, key=feature_scores.get, reverse=True)[:N])"
   ]
  },
  {
   "cell_type": "code",
   "execution_count": 24,
   "metadata": {},
   "outputs": [],
   "source": [
    "import re, string\n",
    "\n",
    "def clean_text(s):\n",
    "    s = s.split()\n",
    "    s = \" \".join(s)\n",
    "    # Remove all punctuations\n",
    "    s = re.sub(f'[{re.escape(string.punctuation)}]', '', s)\n",
    "    return s    "
   ]
  }
 ]
}